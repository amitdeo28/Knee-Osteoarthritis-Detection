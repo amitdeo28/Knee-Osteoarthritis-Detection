{
 "cells": [
  {
   "cell_type": "code",
   "execution_count": 2,
   "metadata": {},
   "outputs": [],
   "source": [
    "import numpy as np\n",
    "import pandas as pd\n",
    "import matplotlib.pyplot as plt\n",
    "import seaborn as sea\n",
    "import os\n",
    "from tqdm.notebook import tqdm\n",
    "import cv2\n",
    "import torch\n",
    "import torch.nn as nn\n",
    "from torch.utils.data import Dataset, DataLoader\n",
    "import torchvision\n",
    "from torchvision import transforms, models\n",
    "import torch.nn.functional as F\n",
    "from PIL import Image\n",
    "import torch.optim as optim\n",
    "from torch.optim.lr_scheduler import StepLR, ReduceLROnPlateau\n",
    "from sklearn.metrics import accuracy_score, f1_score\n",
    "from pathlib import Path\n",
    "import random\n",
    "import pickle\n",
    "from sklearn.utils.class_weight import compute_class_weight\n"
   ]
  },
  {
   "cell_type": "code",
   "execution_count": 11,
   "metadata": {},
   "outputs": [],
   "source": [
    "class cfg:\n",
    "    device = 'cuda' if torch.cuda.is_available() else 'cpu'\n",
    "    num_epochs = 20\n",
    "    num_class = 3\n",
    "    lr = 1e-4\n",
    "    base_model = torchvision.models.resnet18(weights='IMAGENET1K_V1')\n",
    "    lr_decay = 0.1\n",
    "    patience = 5\n",
    "    batch_size = 64\n",
    "    criterion = nn.CrossEntropyLoss()\n"
   ]
  },
  {
   "cell_type": "code",
   "execution_count": 12,
   "metadata": {},
   "outputs": [],
   "source": [
    "# Adjust your dataset path here\n",
    "path = \"A:/project_x/Flask-Knee-Osteoarthritis-Classification/dataset/\"\n",
    "\n",
    "# Relabeling dictionary\n",
    "new_label = {\n",
    "    0: 0,\n",
    "    1: 1,\n",
    "    2: 1,\n",
    "    3: 2,\n",
    "    4: 2\n",
    "}\n"
   ]
  },
  {
   "cell_type": "code",
   "execution_count": 13,
   "metadata": {},
   "outputs": [
    {
     "data": {
      "text/plain": [
       "(673, 2)"
      ]
     },
     "execution_count": 13,
     "metadata": {},
     "output_type": "execute_result"
    }
   ],
   "source": [
    "# Train Data\n",
    "image_path = []\n",
    "labels = []\n",
    "\n",
    "for label in [0, 2, 3, 4]:\n",
    "    image_list = os.listdir(f\"{path}train/{label}\")\n",
    "    for p in image_list:\n",
    "        image_path += [f\"{path}train/{label}/\" + p]\n",
    "    labels += [new_label[label]] * len(image_list)\n",
    "\n",
    "train_data = pd.DataFrame({\"Filepath\": image_path, \"Labels\": labels})\n",
    "train_data.shape\n",
    "\n",
    "# Validation Data\n",
    "image_path = []\n",
    "labels = []\n",
    "\n",
    "for label in [0, 2, 3, 4]:\n",
    "    image_list = os.listdir(f\"{path}val/{label}\")\n",
    "    for p in image_list:\n",
    "        image_path += [f\"{path}val/{label}/\" + p]\n",
    "    labels += [new_label[label]] * len(image_list)\n",
    "\n",
    "val_data = pd.DataFrame({\"Filepath\": image_path, \"Labels\": labels})\n",
    "val_data.shape\n"
   ]
  },
  {
   "cell_type": "code",
   "execution_count": 14,
   "metadata": {},
   "outputs": [],
   "source": [
    "class custom_dataset(Dataset):\n",
    "    def __init__(self, dataframe, transform=None):\n",
    "        self.df = dataframe\n",
    "        self.transform = transform\n",
    "\n",
    "    def __len__(self):\n",
    "        return len(self.df)\n",
    "\n",
    "    def __getitem__(self, idx):\n",
    "        img_name = self.df.iloc[idx, 0]\n",
    "        image = Image.open(img_name)\n",
    "        label = self.df.iloc[idx, 1]\n",
    "\n",
    "        if self.transform:\n",
    "            image = self.transform(image)\n",
    "\n",
    "        return image, label\n"
   ]
  },
  {
   "cell_type": "code",
   "execution_count": 15,
   "metadata": {},
   "outputs": [],
   "source": [
    "pre_processing = {\n",
    "    'train': transforms.Compose([\n",
    "        transforms.Grayscale(num_output_channels=3),\n",
    "        transforms.Resize((256, 256)),\n",
    "        transforms.RandomRotation(degrees=15),\n",
    "        transforms.RandomResizedCrop((224, 224)),\n",
    "        transforms.RandomHorizontalFlip(),\n",
    "        transforms.ColorJitter(brightness=0.2, contrast=0.2, saturation=0.2, hue=0.2),\n",
    "        transforms.ToTensor(),\n",
    "        transforms.Normalize([0.485, 0.456, 0.406], [0.229, 0.224, 0.225])\n",
    "    ]),\n",
    "    'eval': transforms.Compose([\n",
    "        transforms.Grayscale(num_output_channels=3),\n",
    "        transforms.Resize((256, 256)),\n",
    "        transforms.CenterCrop((224, 224)),\n",
    "        transforms.ToTensor(),\n",
    "        transforms.Normalize([0.485, 0.456, 0.406], [0.229, 0.224, 0.225])\n",
    "    ])\n",
    "}\n"
   ]
  },
  {
   "cell_type": "code",
   "execution_count": 16,
   "metadata": {},
   "outputs": [],
   "source": [
    "custom_train = custom_dataset(train_data, transform=pre_processing['train'])\n",
    "custom_val = custom_dataset(val_data, transform=pre_processing['eval'])\n",
    "\n",
    "train_loader = DataLoader(custom_train, batch_size=cfg.batch_size, shuffle=True)\n",
    "val_loader = DataLoader(custom_val, batch_size=cfg.batch_size)\n"
   ]
  },
  {
   "cell_type": "code",
   "execution_count": 17,
   "metadata": {},
   "outputs": [
    {
     "name": "stderr",
     "output_type": "stream",
     "text": [
      "c:\\Users\\91840\\anaconda3\\envs\\knee_oa\\lib\\site-packages\\torch\\optim\\lr_scheduler.py:62: UserWarning: The verbose parameter is deprecated. Please use get_last_lr() to access the learning rate.\n",
      "  warnings.warn(\n"
     ]
    }
   ],
   "source": [
    "model = cfg.base_model\n",
    "model.fc = nn.Linear(model.fc.in_features, cfg.num_class)\n",
    "\n",
    "# Loss and Optimizer\n",
    "criterion = cfg.criterion\n",
    "optimizer = optim.Adam(model.parameters(), lr=cfg.lr)\n",
    "scheduler = ReduceLROnPlateau(optimizer, mode='min', patience=cfg.patience, factor=cfg.lr_decay, verbose=True)\n",
    "\n",
    "# Send model to device\n",
    "device = cfg.device\n",
    "model = model.to(device)\n",
    "\n",
    "# Number of epochs\n",
    "epochs = cfg.num_epochs\n",
    "\n",
    "# Saving best model\n",
    "best_model_params_path = os.path.join('./', 'best_model_params.pt')\n"
   ]
  },
  {
   "cell_type": "code",
   "execution_count": 18,
   "metadata": {},
   "outputs": [],
   "source": [
    "y_tot = np.array(labels)\n",
    "cl = np.unique(y_tot)\n",
    "wts = compute_class_weight('balanced', classes=cl, y=y_tot)\n",
    "wts = torch.tensor(wts).to(device)\n"
   ]
  },
  {
   "cell_type": "code",
   "execution_count": 19,
   "metadata": {},
   "outputs": [],
   "source": [
    "def train_it(model, train_loader, optimizer, criterion, device):\n",
    "    model.train()\n",
    "    total_loss = 0.0\n",
    "    num_samples = 0\n",
    "\n",
    "    for inputs, labels in tqdm(train_loader):\n",
    "        inputs, labels = inputs.to(device), labels.to(device)\n",
    "\n",
    "        optimizer.zero_grad()\n",
    "        outputs = model(inputs)\n",
    "        loss = criterion(outputs, labels)\n",
    "        loss.backward()\n",
    "        total_loss += loss.item() * inputs.shape[0]\n",
    "        optimizer.step()\n",
    "        num_samples += inputs.shape[0]\n",
    "\n",
    "    return total_loss / num_samples"
   ]
  },
  {
   "cell_type": "code",
   "execution_count": 20,
   "metadata": {},
   "outputs": [],
   "source": [
    "def test_it(model, val_loader, optimizer, criterion, device):\n",
    "    model.eval()\n",
    "    with torch.no_grad():\n",
    "        total_loss = 0.0\n",
    "        num_samples = 0\n",
    "        preds = []\n",
    "        true = []\n",
    "\n",
    "        for inputs, labels in val_loader:\n",
    "            inputs, labels = inputs.to(device), labels.to(device)\n",
    "            outputs = model(inputs)\n",
    "            loss = criterion(outputs, labels)\n",
    "            total_loss += loss.item() * inputs.shape[0]\n",
    "            num_samples += inputs.shape[0]\n",
    "            _, predicted = torch.max(outputs.data, 1)\n",
    "            preds.extend(predicted.to('cpu'))\n",
    "            true.extend(labels.to('cpu'))\n",
    "\n",
    "        val_acc = accuracy_score(true, preds)\n",
    "        val_f1s = f1_score(true, preds, average=None)\n",
    "\n",
    "        print('-' * 69)\n",
    "        print(f'Validation accuracy: {val_acc * 100:.2f}%')\n",
    "        print(f'Validation F1 scores: {val_f1s}')\n",
    "        print('-' * 69)\n",
    "\n",
    "        avg_val_loss = total_loss / num_samples\n",
    "    return avg_val_loss, val_acc, val_f1s\n"
   ]
  },
  {
   "cell_type": "code",
   "execution_count": 24,
   "metadata": {},
   "outputs": [],
   "source": [
    "def trainloop(epochs,model,train_loader,val_loader,optimizer,criterion,scheduler,device):\n",
    "    best_acc=0\n",
    "    for epoch in range(epochs):\n",
    "        print(f'Epoch {epoch+1} started: ')\n",
    "        train_loss=train_it(model,train_loader,optimizer,criterion,device)\n",
    "        avg_val_loss, val_acc, val_f1s=test_it(model,val_loader,optimizer,criterion,device)\n",
    "        if(val_acc>best_acc):\n",
    "            best_acc=val_acc\n",
    "            torch.save(model.state_dict(), best_model_params_path)\n",
    "#             with open('model_pickle','wb') as f:\n",
    "#                 pickle.dump(model,f)\n",
    "            print('Improved and Saved Model')\n",
    "    \n",
    "        scheduler.step(avg_val_loss)\n",
    "        current_lr = optimizer.param_groups[0]['lr']\n",
    "        print(f\"Epoch {epoch+1}: Learning Rate = {current_lr}\")\n",
    "    print('='*69)"
   ]
  },
  {
   "cell_type": "code",
   "execution_count": 25,
   "metadata": {},
   "outputs": [
    {
     "name": "stdout",
     "output_type": "stream",
     "text": [
      "Epoch 1 started: \n"
     ]
    },
    {
     "data": {
      "application/vnd.jupyter.widget-view+json": {
       "model_id": "f12ef728138d4503b2e0339a30e1435d",
       "version_major": 2,
       "version_minor": 0
      },
      "text/plain": [
       "  0%|          | 0/74 [00:00<?, ?it/s]"
      ]
     },
     "metadata": {},
     "output_type": "display_data"
    },
    {
     "name": "stdout",
     "output_type": "stream",
     "text": [
      "---------------------------------------------------------------------\n",
      "Validation accuracy: 71.47%\n",
      "Validation F1 scores: [0.77945619 0.61098901 0.73362445]\n",
      "---------------------------------------------------------------------\n",
      "Improved and Saved Model\n",
      "Epoch 1: Learning Rate = 0.0001\n",
      "Epoch 2 started: \n"
     ]
    },
    {
     "data": {
      "application/vnd.jupyter.widget-view+json": {
       "model_id": "5f0245474df146f79addaa03f277e06b",
       "version_major": 2,
       "version_minor": 0
      },
      "text/plain": [
       "  0%|          | 0/74 [00:00<?, ?it/s]"
      ]
     },
     "metadata": {},
     "output_type": "display_data"
    },
    {
     "name": "stdout",
     "output_type": "stream",
     "text": [
      "---------------------------------------------------------------------\n",
      "Validation accuracy: 71.62%\n",
      "Validation F1 scores: [0.79008746 0.61978022 0.68292683]\n",
      "---------------------------------------------------------------------\n",
      "Improved and Saved Model\n",
      "Epoch 2: Learning Rate = 0.0001\n",
      "Epoch 3 started: \n"
     ]
    },
    {
     "data": {
      "application/vnd.jupyter.widget-view+json": {
       "model_id": "336a2185a22d44f0be1c9ed253fa4df0",
       "version_major": 2,
       "version_minor": 0
      },
      "text/plain": [
       "  0%|          | 0/74 [00:00<?, ?it/s]"
      ]
     },
     "metadata": {},
     "output_type": "display_data"
    },
    {
     "name": "stdout",
     "output_type": "stream",
     "text": [
      "---------------------------------------------------------------------\n",
      "Validation accuracy: 71.77%\n",
      "Validation F1 scores: [0.79365079 0.48554913 0.81147541]\n",
      "---------------------------------------------------------------------\n",
      "Improved and Saved Model\n",
      "Epoch 3: Learning Rate = 0.0001\n",
      "Epoch 4 started: \n"
     ]
    },
    {
     "data": {
      "application/vnd.jupyter.widget-view+json": {
       "model_id": "4f2d3824f4794aa2b7deafbd66ae8b3f",
       "version_major": 2,
       "version_minor": 0
      },
      "text/plain": [
       "  0%|          | 0/74 [00:00<?, ?it/s]"
      ]
     },
     "metadata": {},
     "output_type": "display_data"
    },
    {
     "name": "stdout",
     "output_type": "stream",
     "text": [
      "---------------------------------------------------------------------\n",
      "Validation accuracy: 72.07%\n",
      "Validation F1 scores: [0.8055207  0.3902439  0.82442748]\n",
      "---------------------------------------------------------------------\n",
      "Improved and Saved Model\n",
      "Epoch 4: Learning Rate = 0.0001\n",
      "Epoch 5 started: \n"
     ]
    },
    {
     "data": {
      "application/vnd.jupyter.widget-view+json": {
       "model_id": "3cdfb6c1752b4adca9691a806af37064",
       "version_major": 2,
       "version_minor": 0
      },
      "text/plain": [
       "  0%|          | 0/74 [00:00<?, ?it/s]"
      ]
     },
     "metadata": {},
     "output_type": "display_data"
    },
    {
     "name": "stdout",
     "output_type": "stream",
     "text": [
      "---------------------------------------------------------------------\n",
      "Validation accuracy: 73.11%\n",
      "Validation F1 scores: [0.81212121 0.62472885 0.71111111]\n",
      "---------------------------------------------------------------------\n",
      "Improved and Saved Model\n",
      "Epoch 5: Learning Rate = 0.0001\n",
      "Epoch 6 started: \n"
     ]
    },
    {
     "data": {
      "application/vnd.jupyter.widget-view+json": {
       "model_id": "e2e2464786fd451fbdfd4ccee5c2b87a",
       "version_major": 2,
       "version_minor": 0
      },
      "text/plain": [
       "  0%|          | 0/74 [00:00<?, ?it/s]"
      ]
     },
     "metadata": {},
     "output_type": "display_data"
    },
    {
     "name": "stdout",
     "output_type": "stream",
     "text": [
      "---------------------------------------------------------------------\n",
      "Validation accuracy: 76.67%\n",
      "Validation F1 scores: [0.82978723 0.66055046 0.78571429]\n",
      "---------------------------------------------------------------------\n",
      "Improved and Saved Model\n",
      "Epoch 6: Learning Rate = 0.0001\n",
      "Epoch 7 started: \n"
     ]
    },
    {
     "data": {
      "application/vnd.jupyter.widget-view+json": {
       "model_id": "9c53802e99d04711bcfafd008cd6b302",
       "version_major": 2,
       "version_minor": 0
      },
      "text/plain": [
       "  0%|          | 0/74 [00:00<?, ?it/s]"
      ]
     },
     "metadata": {},
     "output_type": "display_data"
    },
    {
     "name": "stdout",
     "output_type": "stream",
     "text": [
      "---------------------------------------------------------------------\n",
      "Validation accuracy: 73.85%\n",
      "Validation F1 scores: [0.82071713 0.5045045  0.8       ]\n",
      "---------------------------------------------------------------------\n",
      "Epoch 7: Learning Rate = 0.0001\n",
      "Epoch 8 started: \n"
     ]
    },
    {
     "data": {
      "application/vnd.jupyter.widget-view+json": {
       "model_id": "a054a511bfc048f09beea6fa0df4b254",
       "version_major": 2,
       "version_minor": 0
      },
      "text/plain": [
       "  0%|          | 0/74 [00:00<?, ?it/s]"
      ]
     },
     "metadata": {},
     "output_type": "display_data"
    },
    {
     "name": "stdout",
     "output_type": "stream",
     "text": [
      "---------------------------------------------------------------------\n",
      "Validation accuracy: 76.52%\n",
      "Validation F1 scores: [0.82234957 0.60427807 0.83941606]\n",
      "---------------------------------------------------------------------\n",
      "Epoch 8: Learning Rate = 0.0001\n",
      "Epoch 9 started: \n"
     ]
    },
    {
     "data": {
      "application/vnd.jupyter.widget-view+json": {
       "model_id": "d41a576937a7404eab2f98d4fac5f9e4",
       "version_major": 2,
       "version_minor": 0
      },
      "text/plain": [
       "  0%|          | 0/74 [00:00<?, ?it/s]"
      ]
     },
     "metadata": {},
     "output_type": "display_data"
    },
    {
     "name": "stdout",
     "output_type": "stream",
     "text": [
      "---------------------------------------------------------------------\n",
      "Validation accuracy: 79.35%\n",
      "Validation F1 scores: [0.86005831 0.66666667 0.81395349]\n",
      "---------------------------------------------------------------------\n",
      "Improved and Saved Model\n",
      "Epoch 9: Learning Rate = 0.0001\n",
      "Epoch 10 started: \n"
     ]
    },
    {
     "data": {
      "application/vnd.jupyter.widget-view+json": {
       "model_id": "539813f9a15d4d4c81737a7f8367b7a5",
       "version_major": 2,
       "version_minor": 0
      },
      "text/plain": [
       "  0%|          | 0/74 [00:00<?, ?it/s]"
      ]
     },
     "metadata": {},
     "output_type": "display_data"
    },
    {
     "name": "stdout",
     "output_type": "stream",
     "text": [
      "---------------------------------------------------------------------\n",
      "Validation accuracy: 77.56%\n",
      "Validation F1 scores: [0.83834049 0.65048544 0.80851064]\n",
      "---------------------------------------------------------------------\n",
      "Epoch 10: Learning Rate = 0.0001\n",
      "Epoch 11 started: \n"
     ]
    },
    {
     "data": {
      "application/vnd.jupyter.widget-view+json": {
       "model_id": "dd09895eeb4142b698c3d805ea2fe3fa",
       "version_major": 2,
       "version_minor": 0
      },
      "text/plain": [
       "  0%|          | 0/74 [00:00<?, ?it/s]"
      ]
     },
     "metadata": {},
     "output_type": "display_data"
    },
    {
     "name": "stdout",
     "output_type": "stream",
     "text": [
      "---------------------------------------------------------------------\n",
      "Validation accuracy: 79.20%\n",
      "Validation F1 scores: [0.85714286 0.66331658 0.81679389]\n",
      "---------------------------------------------------------------------\n",
      "Epoch 11: Learning Rate = 0.0001\n",
      "Epoch 12 started: \n"
     ]
    },
    {
     "data": {
      "application/vnd.jupyter.widget-view+json": {
       "model_id": "a17b0f733997485586d6d11a6d8b7d54",
       "version_major": 2,
       "version_minor": 0
      },
      "text/plain": [
       "  0%|          | 0/74 [00:00<?, ?it/s]"
      ]
     },
     "metadata": {},
     "output_type": "display_data"
    },
    {
     "name": "stdout",
     "output_type": "stream",
     "text": [
      "---------------------------------------------------------------------\n",
      "Validation accuracy: 78.31%\n",
      "Validation F1 scores: [0.8427673  0.67764706 0.80701754]\n",
      "---------------------------------------------------------------------\n",
      "Epoch 12: Learning Rate = 0.0001\n",
      "Epoch 13 started: \n"
     ]
    },
    {
     "data": {
      "application/vnd.jupyter.widget-view+json": {
       "model_id": "1c4de0b484654f34a75eeefc647b805d",
       "version_major": 2,
       "version_minor": 0
      },
      "text/plain": [
       "  0%|          | 0/74 [00:00<?, ?it/s]"
      ]
     },
     "metadata": {},
     "output_type": "display_data"
    },
    {
     "name": "stdout",
     "output_type": "stream",
     "text": [
      "---------------------------------------------------------------------\n",
      "Validation accuracy: 72.51%\n",
      "Validation F1 scores: [0.8125     0.51111111 0.7706422 ]\n",
      "---------------------------------------------------------------------\n",
      "Epoch 13: Learning Rate = 0.0001\n",
      "Epoch 14 started: \n"
     ]
    },
    {
     "data": {
      "application/vnd.jupyter.widget-view+json": {
       "model_id": "b24ea1a5eb7f46b2a68f8fe3bdc40550",
       "version_major": 2,
       "version_minor": 0
      },
      "text/plain": [
       "  0%|          | 0/74 [00:00<?, ?it/s]"
      ]
     },
     "metadata": {},
     "output_type": "display_data"
    },
    {
     "name": "stdout",
     "output_type": "stream",
     "text": [
      "---------------------------------------------------------------------\n",
      "Validation accuracy: 77.86%\n",
      "Validation F1 scores: [0.8487395  0.63185379 0.80321285]\n",
      "---------------------------------------------------------------------\n",
      "Epoch 14: Learning Rate = 0.0001\n",
      "Epoch 15 started: \n"
     ]
    },
    {
     "data": {
      "application/vnd.jupyter.widget-view+json": {
       "model_id": "16ec010f8a5a4627bb29e0828914426f",
       "version_major": 2,
       "version_minor": 0
      },
      "text/plain": [
       "  0%|          | 0/74 [00:00<?, ?it/s]"
      ]
     },
     "metadata": {},
     "output_type": "display_data"
    },
    {
     "name": "stdout",
     "output_type": "stream",
     "text": [
      "---------------------------------------------------------------------\n",
      "Validation accuracy: 79.49%\n",
      "Validation F1 scores: [0.87215909 0.68852459 0.75348837]\n",
      "---------------------------------------------------------------------\n",
      "Improved and Saved Model\n",
      "Epoch 15: Learning Rate = 0.0001\n",
      "Epoch 16 started: \n"
     ]
    },
    {
     "data": {
      "application/vnd.jupyter.widget-view+json": {
       "model_id": "f7e670caba34461bb9b0dbf4853a7e3a",
       "version_major": 2,
       "version_minor": 0
      },
      "text/plain": [
       "  0%|          | 0/74 [00:00<?, ?it/s]"
      ]
     },
     "metadata": {},
     "output_type": "display_data"
    },
    {
     "name": "stdout",
     "output_type": "stream",
     "text": [
      "---------------------------------------------------------------------\n",
      "Validation accuracy: 79.79%\n",
      "Validation F1 scores: [0.86562942 0.66141732 0.81395349]\n",
      "---------------------------------------------------------------------\n",
      "Improved and Saved Model\n",
      "Epoch 16: Learning Rate = 0.0001\n",
      "Epoch 17 started: \n"
     ]
    },
    {
     "data": {
      "application/vnd.jupyter.widget-view+json": {
       "model_id": "0cc4e56664b5413892ad639a64a98a6e",
       "version_major": 2,
       "version_minor": 0
      },
      "text/plain": [
       "  0%|          | 0/74 [00:00<?, ?it/s]"
      ]
     },
     "metadata": {},
     "output_type": "display_data"
    },
    {
     "name": "stdout",
     "output_type": "stream",
     "text": [
      "---------------------------------------------------------------------\n",
      "Validation accuracy: 77.12%\n",
      "Validation F1 scores: [0.8423913  0.60916442 0.80334728]\n",
      "---------------------------------------------------------------------\n",
      "Epoch 17: Learning Rate = 1e-05\n",
      "Epoch 18 started: \n"
     ]
    },
    {
     "data": {
      "application/vnd.jupyter.widget-view+json": {
       "model_id": "287fb4374761452b998dbb980282191f",
       "version_major": 2,
       "version_minor": 0
      },
      "text/plain": [
       "  0%|          | 0/74 [00:00<?, ?it/s]"
      ]
     },
     "metadata": {},
     "output_type": "display_data"
    },
    {
     "name": "stdout",
     "output_type": "stream",
     "text": [
      "---------------------------------------------------------------------\n",
      "Validation accuracy: 80.24%\n",
      "Validation F1 scores: [0.86337209 0.69544365 0.81327801]\n",
      "---------------------------------------------------------------------\n",
      "Improved and Saved Model\n",
      "Epoch 18: Learning Rate = 1e-05\n",
      "Epoch 19 started: \n"
     ]
    },
    {
     "data": {
      "application/vnd.jupyter.widget-view+json": {
       "model_id": "e6de356e326d4bef9013eab1c0b0d183",
       "version_major": 2,
       "version_minor": 0
      },
      "text/plain": [
       "  0%|          | 0/74 [00:00<?, ?it/s]"
      ]
     },
     "metadata": {},
     "output_type": "display_data"
    },
    {
     "name": "stdout",
     "output_type": "stream",
     "text": [
      "---------------------------------------------------------------------\n",
      "Validation accuracy: 80.09%\n",
      "Validation F1 scores: [0.86011905 0.7037037  0.80991736]\n",
      "---------------------------------------------------------------------\n",
      "Epoch 19: Learning Rate = 1e-05\n",
      "Epoch 20 started: \n"
     ]
    },
    {
     "data": {
      "application/vnd.jupyter.widget-view+json": {
       "model_id": "2a257ac50b804fa4a3e65b533db63f4a",
       "version_major": 2,
       "version_minor": 0
      },
      "text/plain": [
       "  0%|          | 0/74 [00:00<?, ?it/s]"
      ]
     },
     "metadata": {},
     "output_type": "display_data"
    },
    {
     "name": "stdout",
     "output_type": "stream",
     "text": [
      "---------------------------------------------------------------------\n",
      "Validation accuracy: 80.98%\n",
      "Validation F1 scores: [0.86982249 0.71194379 0.81481481]\n",
      "---------------------------------------------------------------------\n",
      "Improved and Saved Model\n",
      "Epoch 20: Learning Rate = 1e-05\n",
      "=====================================================================\n"
     ]
    }
   ],
   "source": [
    "trainloop(epochs,model,train_loader,val_loader,optimizer,criterion,scheduler,device)"
   ]
  },
  {
   "cell_type": "code",
   "execution_count": 21,
   "metadata": {},
   "outputs": [
    {
     "name": "stdout",
     "output_type": "stream",
     "text": [
      "---------------------------------------------------------------------\n",
      "Validation accuracy: 82.65%\n",
      "Validation F1 scores: [0.87768718 0.73063584 0.85375494]\n",
      "---------------------------------------------------------------------\n"
     ]
    },
    {
     "data": {
      "text/plain": [
       "(0.40109225178466124,\n",
       " 0.8264705882352941,\n",
       " array([0.87768718, 0.73063584, 0.85375494]))"
      ]
     },
     "execution_count": 21,
     "metadata": {},
     "output_type": "execute_result"
    }
   ],
   "source": [
    "# Test Data\n",
    "image_path = []\n",
    "labels = []\n",
    "\n",
    "for label in [0, 2, 3, 4]:\n",
    "    image_list = os.listdir(f\"{path}test/{label}\")\n",
    "    for p in image_list:\n",
    "        image_path += [f\"{path}test/{label}/\" + p]\n",
    "    labels += [new_label[label]] * len(image_list)\n",
    "\n",
    "test_data = pd.DataFrame({\"Filepath\": image_path, \"Labels\": labels})\n",
    "\n",
    "# Model setup for testing\n",
    "model = cfg.base_model\n",
    "model.fc = nn.Linear(model.fc.in_features, cfg.num_class)\n",
    "model.to(device)\n",
    "\n",
    "custom_test = custom_dataset(test_data, transform=pre_processing['eval'])\n",
    "test_loader = DataLoader(custom_test, batch_size=cfg.batch_size)\n",
    "\n",
    "model.load_state_dict(torch.load(best_model_params_path))\n",
    "\n",
    "with open('model_pickle.pkl', 'wb') as f:\n",
    "    pickle.dump(model, f)\n",
    "\n",
    "with open('model_pickle.pkl', 'rb') as f:\n",
    "    model = pickle.load(f)\n",
    "\n",
    "test_it(model, test_loader, optimizer, criterion, device)"
   ]
  },
  {
   "cell_type": "code",
   "execution_count": null,
   "metadata": {},
   "outputs": [],
   "source": []
  }
 ],
 "metadata": {
  "kernelspec": {
   "display_name": "knee_oa",
   "language": "python",
   "name": "python3"
  },
  "language_info": {
   "codemirror_mode": {
    "name": "ipython",
    "version": 3
   },
   "file_extension": ".py",
   "mimetype": "text/x-python",
   "name": "python",
   "nbconvert_exporter": "python",
   "pygments_lexer": "ipython3",
   "version": "3.9.21"
  }
 },
 "nbformat": 4,
 "nbformat_minor": 2
}
